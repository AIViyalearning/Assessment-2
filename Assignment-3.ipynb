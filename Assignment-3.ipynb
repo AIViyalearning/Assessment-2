{
 "cells": [
  {
   "cell_type": "code",
   "execution_count": 25,
   "id": "afd531be-eb01-496a-9ebe-dcb5c7c05042",
   "metadata": {},
   "outputs": [
    {
     "name": "stdin",
     "output_type": "stream",
     "text": [
      "Enter Value 10\n"
     ]
    },
    {
     "name": "stdout",
     "output_type": "stream",
     "text": [
      "CORRECT\n"
     ]
    }
   ],
   "source": [
    "i=int(input(\"Enter Value\"))\n",
    "if(i==10):\n",
    "    print(\"CORRECT\")\n",
    "\n"
   ]
  },
  {
   "cell_type": "code",
   "execution_count": 27,
   "id": "55ce2c5c-8e00-4b0e-8337-4f583fb5ea5c",
   "metadata": {},
   "outputs": [
    {
     "name": "stdin",
     "output_type": "stream",
     "text": [
      "Enter Value 13\n"
     ]
    },
    {
     "name": "stdout",
     "output_type": "stream",
     "text": [
      "Wrong\n"
     ]
    }
   ],
   "source": [
    "i=int(input(\"Enter Value\"))\n",
    "if(i==10):\n",
    "    print(\"CORRECT\")\n",
    "else:\n",
    "    print(\"Wrong\")"
   ]
  },
  {
   "cell_type": "code",
   "execution_count": 29,
   "id": "f2a8dee5-a2f3-4c2b-bf77-287897fb5c72",
   "metadata": {},
   "outputs": [
    {
     "name": "stdin",
     "output_type": "stream",
     "text": [
      "Enter Value 20\n"
     ]
    },
    {
     "name": "stdout",
     "output_type": "stream",
     "text": [
      "Adult\n"
     ]
    }
   ],
   "source": [
    "age=int(input(\"Enter Value\"))\n",
    "if(age==20):\n",
    "    print(\"Adult\")\n"
   ]
  },
  {
   "cell_type": "code",
   "execution_count": 37,
   "id": "4efaa16f-6a4a-4c9a-9ec3-ece32156b629",
   "metadata": {},
   "outputs": [
    {
     "name": "stdin",
     "output_type": "stream",
     "text": [
      "Enter Value 68\n"
     ]
    },
    {
     "name": "stdout",
     "output_type": "stream",
     "text": [
      "Senior Citizen\n"
     ]
    }
   ],
   "source": [
    "age=int(input(\"Enter Value\"))\n",
    "if(age<18):\n",
    "    print(\"Child\")\n",
    "elif(age<35):\n",
    "    print(\"Adult\")\n",
    "elif(age<59):\n",
    "    print(\"Citizen\")\n",
    "else:\n",
    "    print(\"Senior Citizen\")"
   ]
  },
  {
   "cell_type": "code",
   "execution_count": 39,
   "id": "6cd54ece-cf60-4d4a-8c78-338dbc121bcc",
   "metadata": {},
   "outputs": [
    {
     "name": "stdin",
     "output_type": "stream",
     "text": [
      "Enter a number:  5\n"
     ]
    },
    {
     "name": "stdout",
     "output_type": "stream",
     "text": [
      "Positive number\n"
     ]
    }
   ],
   "source": [
    "num = float(input(\"Enter a number: \"))\n",
    "if num > 0:\n",
    "   print(\"Positive number\")\n",
    "elif num == 0:\n",
    "   print(\"Zero\")\n",
    "else:\n",
    "   print(\"Negative number\")"
   ]
  },
  {
   "cell_type": "code",
   "execution_count": 55,
   "id": "255a4e58-8cb5-4e96-abb6-95b222c651c7",
   "metadata": {},
   "outputs": [
    {
     "name": "stdin",
     "output_type": "stream",
     "text": [
      "Enter a number to check:  13\n"
     ]
    },
    {
     "name": "stdout",
     "output_type": "stream",
     "text": [
      "Not Divisible by 5\n"
     ]
    }
   ],
   "source": [
    "num = float(input(\"Enter a number to check: \"))\n",
    "if(num%5==0):\n",
    "   print(\"Number is Divisible by 5\")\n",
    "else:\n",
    "   print(\"Not Divisible by 5\")"
   ]
  },
  {
   "cell_type": "code",
   "execution_count": null,
   "id": "000f3a0b-e2d0-4d18-adb1-796f902c47b8",
   "metadata": {},
   "outputs": [],
   "source": []
  }
 ],
 "metadata": {
  "kernelspec": {
   "display_name": "Python 3 (ipykernel)",
   "language": "python",
   "name": "python3"
  },
  "language_info": {
   "codemirror_mode": {
    "name": "ipython",
    "version": 3
   },
   "file_extension": ".py",
   "mimetype": "text/x-python",
   "name": "python",
   "nbconvert_exporter": "python",
   "pygments_lexer": "ipython3",
   "version": "3.11.7"
  }
 },
 "nbformat": 4,
 "nbformat_minor": 5
}
